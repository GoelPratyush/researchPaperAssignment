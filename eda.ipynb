{
 "cells": [
  {
   "cell_type": "markdown",
   "metadata": {},
   "source": [
    "# Exploratory Data Analysis\n",
    "\n",
    "Not much to be done here as we're using images and passing into a CNN without extracting any handcrafted features.\n",
    "\n",
    "This notebook is only to get a quick idea of what the data looks like and how the images are distributed across classes. Wouldn't even call it EDA really – force of habit, and nothing better to call it."
   ]
  },
  {
   "cell_type": "code",
   "execution_count": 1,
   "metadata": {},
   "outputs": [],
   "source": [
    "import numpy as np\n",
    "import matplotlib.pyplot as plt\n",
    "import scipy.stats\n",
    "import os"
   ]
  },
  {
   "cell_type": "code",
   "execution_count": 2,
   "metadata": {},
   "outputs": [],
   "source": [
    "data_path = os.path.join('data', 'lfw2', 'lfw2')"
   ]
  },
  {
   "cell_type": "code",
   "execution_count": 3,
   "metadata": {},
   "outputs": [
    {
     "name": "stdout",
     "output_type": "stream",
     "text": [
      "Number of unique individuals (classes) = 5749\n",
      "\n",
      "\tAJ_Cook\n",
      "\tAJ_Lamas\n",
      "\tAaron_Eckhart\n",
      "\tAaron_Guiel\n",
      "\tAaron_Patterson\n",
      "\tAaron_Peirsol\n",
      "\tAaron_Pena\n",
      "\tAaron_Sorkin\n",
      "\tAaron_Tippin\n",
      "\tAbba_Eban\n",
      "\t.\n",
      "\t.\n",
      "\t.\n",
      "\n",
      "\tZico\n",
      "\tZinedine_Zidane\n",
      "\tZiwang_Xu\n",
      "\tZoe_Ball\n",
      "\tZoran_Djindjic\n",
      "\tZorica_Radovic\n",
      "\tZulfiqar_Ahmed\n",
      "\tZumrati_Juma\n",
      "\tZurab_Tsereteli\n",
      "\tZydrunas_Ilgauskas\n"
     ]
    }
   ],
   "source": [
    "print(f'Number of unique individuals (classes) = {len(os.listdir(data_path))}\\n')\n",
    "\n",
    "[print('\\t' + name) for name in sorted(os.listdir(data_path))[:10]];\n",
    "print('\\t.\\n\\t.\\n\\t.\\n')\n",
    "[print('\\t' + name) for name in sorted(os.listdir(data_path))[-10:]];"
   ]
  },
  {
   "cell_type": "markdown",
   "metadata": {},
   "source": [
    "5749 directories corresponding to each individual, containing one or several images of that individual."
   ]
  },
  {
   "cell_type": "code",
   "execution_count": 4,
   "metadata": {},
   "outputs": [
    {
     "name": "stdout",
     "output_type": "stream",
     "text": [
      "Total number of images = 13233\n"
     ]
    }
   ],
   "source": [
    "# Number of images for each class.\n",
    "count_classwise = list()\n",
    "\n",
    "for class_ in sorted(os.listdir(data_path)):\n",
    "    count_classwise.append(len(os.listdir(os.path.join(data_path, class_))))\n",
    "    \n",
    "count_classwise = np.array(count_classwise)\n",
    "\n",
    "print(f'Total number of images = {np.sum(count_classwise)}')"
   ]
  },
  {
   "cell_type": "code",
   "execution_count": 5,
   "metadata": {},
   "outputs": [
    {
     "data": {
      "image/png": "[encoded data removed]",
      "text/plain": [
       "<Figure size 432x288 with 1 Axes>"
      ]
     },
     "metadata": {
      "needs_background": "light"
     },
     "output_type": "display_data"
    }
   ],
   "source": [
    "plt.plot(range(len(count_classwise)), count_classwise, color='b')\n",
    "plt.xlabel('Class indices (in alphabetical order of name)')\n",
    "plt.ylabel('Number of images per class');"
   ]
  },
  {
   "cell_type": "markdown",
   "metadata": {},
   "source": [
    "Who has 500+ images?!"
   ]
  },
  {
   "cell_type": "code",
   "execution_count": 6,
   "metadata": {},
   "outputs": [
    {
     "name": "stdout",
     "output_type": "stream",
     "text": [
      "George_W_Bush: 530 images\n"
     ]
    }
   ],
   "source": [
    "idx = np.argmax(count_classwise)\n",
    "print(f'{sorted(os.listdir(data_path))[idx]}: {np.max(count_classwise)} images')"
   ]
  },
  {
   "cell_type": "code",
   "execution_count": 7,
   "metadata": {},
   "outputs": [
    {
     "data": {
      "image/png": "[encoded data removed]",
      "text/plain": [
       "<Figure size 432x288 with 1 Axes>"
      ]
     },
     "metadata": {
      "needs_background": "light"
     },
     "output_type": "display_data"
    }
   ],
   "source": [
    "plt.hist(count_classwise, bins=max(count_classwise), color='b');\n",
    "plt.xlim([0, 20]);\n",
    "plt.xlabel('Number of images per class')\n",
    "plt.ylabel('Frequency');"
   ]
  },
  {
   "cell_type": "code",
   "execution_count": 8,
   "metadata": {},
   "outputs": [
    {
     "name": "stdout",
     "output_type": "stream",
     "text": [
      "Statistics on number of images per class:\n",
      "\tmean = 2.3\n",
      "\tmedian = 1\n",
      "\t95th percentile value = 6\n"
     ]
    }
   ],
   "source": [
    "print('Statistics on number of images per class:')\n",
    "print(f'\\tmean = {np.round(np.mean(count_classwise), 2)}')\n",
    "print(f'\\tmedian = {int(np.median(count_classwise))}')\n",
    "print(f'\\t95th percentile value = {int(np.percentile(count_classwise, 95))}')"
   ]
  },
  {
   "cell_type": "markdown",
   "metadata": {},
   "source": [
    "### Takeaway\n",
    "\n",
    "An overwhelming majority of classes have between 1 and 6 images. Rare outliers like George W. Bush who has 530 images.\n",
    "\n",
    "Initial idea of making a train-valid-test split keeping class proportions intact doesn't make sense to me for 2 reasons:\n",
    "* Most of the classes have 1 image anyway.\n",
    "* The objective of the FaceNet paper isn't to perform a 5749-way classification, it's to learn a generalized embedding.\n",
    "\n",
    "Plan for train-valid-test split: <br>\n",
    "* Include all classes, but keep an upper limit on the number of images in each class (say 10 images max per class?) – let's call this `data_subset`.\n",
    "* From `data_subset`, extract a few sample images (and NOT a traditional elaborate 80-20 split) and use them for:\n",
    "    - Face verification\n",
    "    - Face recognition <br>\n",
    "    Put the rest of the images for training.\n",
    "\n",
    "ACTION ITEM: Let me know what you guys think."
   ]
  }
 ],
 "metadata": {
  "kernelspec": {
   "display_name": "Python 3",
   "language": "python",
   "name": "python3"
  },
  "language_info": {
   "codemirror_mode": {
    "name": "ipython",
    "version": 3
   },
   "file_extension": ".py",
   "mimetype": "text/x-python",
   "name": "python",
   "nbconvert_exporter": "python",
   "pygments_lexer": "ipython3",
   "version": "3.8.6"
  }
 },
 "nbformat": 4,
 "nbformat_minor": 4
}
