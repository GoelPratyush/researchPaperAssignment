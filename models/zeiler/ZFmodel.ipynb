{
  "nbformat": 4,
  "nbformat_minor": 0,
  "metadata": {
    "kernelspec": {
      "display_name": "Python 3",
      "language": "python",
      "name": "python3"
    },
    "language_info": {
      "codemirror_mode": {
        "name": "ipython",
        "version": 3
      },
      "file_extension": ".py",
      "mimetype": "text/x-python",
      "name": "python",
      "nbconvert_exporter": "python",
      "pygments_lexer": "ipython3",
      "version": "3.8.6"
    },
    "colab": {
      "name": "ZFmodel.ipynb",
      "provenance": [],
      "collapsed_sections": []
    },
    "accelerator": "TPU"
  },
  "cells": [
    {
      "cell_type": "code",
      "metadata": {
        "colab": {
          "base_uri": "https://localhost:8080/"
        },
        "id": "VJ_2B0i1KMas",
        "outputId": "6fbbc1ac-7d99-4f13-8f90-cddca3eb9207"
      },
      "source": [
        "from google.colab import drive\n",
        "drive.mount('/content/drive')"
      ],
      "execution_count": 30,
      "outputs": [
        {
          "output_type": "stream",
          "text": [
            "Drive already mounted at /content/drive; to attempt to forcibly remount, call drive.mount(\"/content/drive\", force_remount=True).\n"
          ],
          "name": "stdout"
        }
      ]
    },
    {
      "cell_type": "code",
      "metadata": {
        "colab": {
          "base_uri": "https://localhost:8080/"
        },
        "id": "rtdkmD5xLj5c",
        "outputId": "f66d1df1-1f7f-45d2-b19a-ab4e253509f8"
      },
      "source": [
        "cd /content/drive/MyDrive/researchPaperAssignment/models/zeiler"
      ],
      "execution_count": 31,
      "outputs": [
        {
          "output_type": "stream",
          "text": [
            "/content/drive/MyDrive/researchPaperAssignment/models/zeiler\n"
          ],
          "name": "stdout"
        }
      ]
    },
    {
      "cell_type": "code",
      "metadata": {
        "id": "NSLO6syD4nlN"
      },
      "source": [
        "import numpy as np\n",
        "import tensorflow as tf\n",
        "import tensorflow.keras as keras\n",
        "import tensorflow_addons as tfa\n",
        "import matplotlib.pyplot as plt\n",
        "import pickle\n",
        "import os\n",
        "\n",
        "import sys\n",
        "sys.path.append(os.path.join('..', '..'))\n",
        "\n",
        "from global_params import *"
      ],
      "execution_count": 32,
      "outputs": []
    },
    {
      "cell_type": "code",
      "metadata": {
        "id": "XaRAsyCd4nlN"
      },
      "source": [
        "batch_size = 200"
      ],
      "execution_count": 33,
      "outputs": []
    },
    {
      "cell_type": "code",
      "metadata": {
        "colab": {
          "base_uri": "https://localhost:8080/"
        },
        "id": "3G15sQpqNK-k",
        "outputId": "303bcc77-17d8-481c-a58e-4f2c7f657183"
      },
      "source": [
        "!unzip ../../data/train.zip\n",
        "!unzip ../../data/test.zip"
      ],
      "execution_count": 34,
      "outputs": [
        {
          "output_type": "stream",
          "text": [
            "Archive:  ../../data/train.zip\n",
            "replace train/Claudia_Pechstein/Claudia_Pechstein_0001.jpg? [y]es, [n]o, [A]ll, [N]one, [r]ename: Archive:  ../../data/test.zip\n",
            "replace test/Claudia_Pechstein/Claudia_Pechstein_0005.jpg? [y]es, [n]o, [A]ll, [N]one, [r]ename: "
          ],
          "name": "stdout"
        }
      ]
    },
    {
      "cell_type": "code",
      "metadata": {
        "id": "dtG4V1m14nlN",
        "colab": {
          "base_uri": "https://localhost:8080/"
        },
        "outputId": "af164fb0-dc8b-4206-8c99-06608edd2772"
      },
      "source": [
        "train_path = os.path.join('train')\n",
        "\n",
        "train_batches = keras.preprocessing.image.ImageDataGenerator(\n",
        "    rescale=1/255,\n",
        "    # rotation_range=20,\n",
        "    width_shift_range=0.1,\n",
        "    height_shift_range=0.1,\n",
        ").flow_from_directory(\n",
        "    train_path,\n",
        "    target_size=(input_shape[0], input_shape[1]),\n",
        "    batch_size=batch_size,\n",
        "    class_mode='sparse',\n",
        "    color_mode='grayscale'\n",
        ")"
      ],
      "execution_count": 35,
      "outputs": [
        {
          "output_type": "stream",
          "text": [
            "Found 6352 images belonging to 901 classes.\n"
          ],
          "name": "stdout"
        }
      ]
    },
    {
      "cell_type": "code",
      "metadata": {
        "id": "W98PJ7bC-Kxv"
      },
      "source": [
        "#Checkpoint\n",
        "checkpoint_path = \"zeiler_cp.ckpt\"\n",
        "# Create a callback that saves the model's weights\n",
        "cp_callback = tf.keras.callbacks.ModelCheckpoint(filepath=checkpoint_path, save_weights_only=False, verbose=1)\n",
        "logger_callback = tf.keras.callbacks.CSVLogger(\"history.csv\", append=True)"
      ],
      "execution_count": 37,
      "outputs": []
    },
    {
      "cell_type": "code",
      "metadata": {
        "id": "5pJuNMNJ4nlQ"
      },
      "source": [
        "# Callback for early stopping\n",
        "# es_callback = keras.callbacks.EarlyStopping(\n",
        "#     monitor='val_loss',\n",
        "#     min_delta=0.0001,\n",
        "#     patience=5,\n",
        "#     restore_best_weights=True\n",
        "# )"
      ],
      "execution_count": 38,
      "outputs": []
    },
    {
      "cell_type": "code",
      "metadata": {
        "id": "c8aQ3LVb4nlQ"
      },
      "source": [
        "# Hyperparameters\n",
        "epochs = 70\n",
        "learning_rate = 0.05\n",
        "# Math works out so that one epoch equals one pass through the training data.\n",
        "train_steps_per_epoch = train_batches.n // batch_size"
      ],
      "execution_count": 39,
      "outputs": []
    },
    {
      "cell_type": "code",
      "metadata": {
        "id": "lGlNdCnH4nlQ"
      },
      "source": [
        "model = keras.Sequential([\n",
        "    keras.layers.Conv2D(64, (7, 7), activation='relu', strides=(2, 2), padding='same', input_shape=input_shape, name='conv1'),\n",
        "    keras.layers.MaxPooling2D(pool_size=(3, 3), strides=(2, 2), padding='same', name='pool1'),\n",
        "    keras.layers.BatchNormalization(name='norm1'),\n",
        "    \n",
        "    keras.layers.Conv2D(64, (1, 1), activation='relu', strides=(1, 1), padding='same', name='conv2a'),\n",
        "    keras.layers.Conv2D(192, (3, 3), activation='relu', strides=(1, 1), padding='same', name='conv2'),\n",
        "    keras.layers.BatchNormalization(name='norm2'),\n",
        "    keras.layers.MaxPooling2D(pool_size=(3, 3), strides=(2, 2), padding='same', name='pool2'),\n",
        "    \n",
        "    keras.layers.Conv2D(192, (1, 1), activation='relu', strides=(1, 1), padding='same', name='conv3a'),\n",
        "    keras.layers.Conv2D(384, (3, 3), activation='relu', strides=(1, 1), padding='same', name='conv3'),\n",
        "    keras.layers.MaxPooling2D(pool_size=(3, 3), strides=(2, 2), padding='same', name='pool3'),\n",
        "    \n",
        "    keras.layers.Conv2D(384, (1, 1), activation='relu', strides=(1, 1), padding='same', name='conv4a'),\n",
        "    keras.layers.Conv2D(256, (3, 3), activation='relu', strides=(1, 1), padding='same', name='conv4'),\n",
        "    \n",
        "    keras.layers.Conv2D(256, (1, 1), activation='relu', strides=(1, 1), padding='same', name='conv5a'),\n",
        "    keras.layers.Conv2D(256, (3, 3), activation='relu', strides=(1, 1), padding='same', name='conv5'),\n",
        "    \n",
        "    keras.layers.Conv2D(256, (1, 1), activation='relu', strides=(1, 1), padding='same', name='conv6a'),\n",
        "    keras.layers.Conv2D(256, (3, 3), activation='relu', strides=(1, 1), padding='same', name='conv6'),\n",
        "    keras.layers.MaxPooling2D(pool_size=(3, 3), strides=2, padding='same', name='pool4'),\n",
        "\n",
        "    keras.layers.Flatten(name='flatten'),\n",
        "    \n",
        "    keras.layers.Dense(1024, name='fc1'),\n",
        "    keras.layers.Dropout(0.2, name='drop1'),\n",
        "    keras.layers.Dense(1024, name='fc2'),\n",
        "    keras.layers.Dropout(0.2, name='drop2'),\n",
        "    keras.layers.Dense(128, name='fc3'),\n",
        "    \n",
        "    keras.layers.Lambda(lambda x: tf.math.l2_normalize(x, axis=1), name='l2')\n",
        "], name='zeiler_fergus')"
      ],
      "execution_count": 40,
      "outputs": []
    },
    {
      "cell_type": "code",
      "metadata": {
        "id": "Am2EzUXi4nlQ",
        "colab": {
          "base_uri": "https://localhost:8080/"
        },
        "outputId": "41b2e700-d208-4bb8-8850-6eca64a1afa3"
      },
      "source": [
        "model.summary()"
      ],
      "execution_count": 41,
      "outputs": [
        {
          "output_type": "stream",
          "text": [
            "Model: \"zeiler_fergus\"\n",
            "_________________________________________________________________\n",
            "Layer (type)                 Output Shape              Param #   \n",
            "=================================================================\n",
            "conv1 (Conv2D)               (None, 48, 48, 64)        3200      \n",
            "_________________________________________________________________\n",
            "pool1 (MaxPooling2D)         (None, 24, 24, 64)        0         \n",
            "_________________________________________________________________\n",
            "norm1 (BatchNormalization)   (None, 24, 24, 64)        256       \n",
            "_________________________________________________________________\n",
            "conv2a (Conv2D)              (None, 24, 24, 64)        4160      \n",
            "_________________________________________________________________\n",
            "conv2 (Conv2D)               (None, 24, 24, 192)       110784    \n",
            "_________________________________________________________________\n",
            "norm2 (BatchNormalization)   (None, 24, 24, 192)       768       \n",
            "_________________________________________________________________\n",
            "pool2 (MaxPooling2D)         (None, 12, 12, 192)       0         \n",
            "_________________________________________________________________\n",
            "conv3a (Conv2D)              (None, 12, 12, 192)       37056     \n",
            "_________________________________________________________________\n",
            "conv3 (Conv2D)               (None, 12, 12, 384)       663936    \n",
            "_________________________________________________________________\n",
            "pool3 (MaxPooling2D)         (None, 6, 6, 384)         0         \n",
            "_________________________________________________________________\n",
            "conv4a (Conv2D)              (None, 6, 6, 384)         147840    \n",
            "_________________________________________________________________\n",
            "conv4 (Conv2D)               (None, 6, 6, 256)         884992    \n",
            "_________________________________________________________________\n",
            "conv5a (Conv2D)              (None, 6, 6, 256)         65792     \n",
            "_________________________________________________________________\n",
            "conv5 (Conv2D)               (None, 6, 6, 256)         590080    \n",
            "_________________________________________________________________\n",
            "conv6a (Conv2D)              (None, 6, 6, 256)         65792     \n",
            "_________________________________________________________________\n",
            "conv6 (Conv2D)               (None, 6, 6, 256)         590080    \n",
            "_________________________________________________________________\n",
            "pool4 (MaxPooling2D)         (None, 3, 3, 256)         0         \n",
            "_________________________________________________________________\n",
            "flatten (Flatten)            (None, 2304)              0         \n",
            "_________________________________________________________________\n",
            "fc1 (Dense)                  (None, 1024)              2360320   \n",
            "_________________________________________________________________\n",
            "drop1 (Dropout)              (None, 1024)              0         \n",
            "_________________________________________________________________\n",
            "fc2 (Dense)                  (None, 1024)              1049600   \n",
            "_________________________________________________________________\n",
            "drop2 (Dropout)              (None, 1024)              0         \n",
            "_________________________________________________________________\n",
            "fc3 (Dense)                  (None, 128)               131200    \n",
            "_________________________________________________________________\n",
            "l2 (Lambda)                  (None, 128)               0         \n",
            "=================================================================\n",
            "Total params: 6,705,856\n",
            "Trainable params: 6,705,344\n",
            "Non-trainable params: 512\n",
            "_________________________________________________________________\n"
          ],
          "name": "stdout"
        }
      ]
    },
    {
      "cell_type": "code",
      "metadata": {
        "id": "aMK5U3nH4nlR"
      },
      "source": [
        "model.compile(\n",
        "    optimizer=keras.optimizers.SGD(lr=learning_rate),\n",
        "    loss=tfa.losses.TripletSemiHardLoss(margin=0.2)\n",
        ")"
      ],
      "execution_count": 42,
      "outputs": []
    },
    {
      "cell_type": "code",
      "metadata": {
        "id": "kZRu6dKz4nlR",
        "colab": {
          "base_uri": "https://localhost:8080/"
        },
        "outputId": "d7a03563-0763-4522-f06a-39ba7fbcfd1e"
      },
      "source": [
        "# %%script echo \"Comment line with %%script echo to run this cell.\"\n",
        "\n",
        "history = model.fit(\n",
        "    train_batches,\n",
        "    epochs=epochs,\n",
        "    steps_per_epoch=train_steps_per_epoch,\n",
        "    callbacks=[cp_callback, logger_callback]\n",
        ")"
      ],
      "execution_count": 44,
      "outputs": [
        {
          "output_type": "stream",
          "text": [
            "Epoch 1/70\n",
            "31/31 [==============================] - ETA: 0s - loss: 0.1962\n",
            "Epoch 00001: saving model to zeiler_cp.ckpt\n",
            "INFO:tensorflow:Assets written to: zeiler_cp.ckpt/assets\n",
            "31/31 [==============================] - 241s 8s/step - loss: 0.1962\n",
            "Epoch 2/70\n",
            "31/31 [==============================] - ETA: 0s - loss: 0.1935\n",
            "Epoch 00002: saving model to zeiler_cp.ckpt\n",
            "INFO:tensorflow:Assets written to: zeiler_cp.ckpt/assets\n",
            "31/31 [==============================] - 242s 8s/step - loss: 0.1935\n",
            "Epoch 3/70\n",
            "31/31 [==============================] - ETA: 0s - loss: 0.1933\n",
            "Epoch 00003: saving model to zeiler_cp.ckpt\n",
            "INFO:tensorflow:Assets written to: zeiler_cp.ckpt/assets\n",
            "31/31 [==============================] - 243s 8s/step - loss: 0.1933\n",
            "Epoch 4/70\n",
            "31/31 [==============================] - ETA: 0s - loss: 0.1921\n",
            "Epoch 00004: saving model to zeiler_cp.ckpt\n",
            "INFO:tensorflow:Assets written to: zeiler_cp.ckpt/assets\n",
            "31/31 [==============================] - 243s 8s/step - loss: 0.1921\n",
            "Epoch 5/70\n",
            "31/31 [==============================] - ETA: 0s - loss: 0.1917\n",
            "Epoch 00005: saving model to zeiler_cp.ckpt\n",
            "INFO:tensorflow:Assets written to: zeiler_cp.ckpt/assets\n",
            "31/31 [==============================] - 243s 8s/step - loss: 0.1917\n",
            "Epoch 6/70\n",
            "31/31 [==============================] - ETA: 0s - loss: 0.1922\n",
            "Epoch 00006: saving model to zeiler_cp.ckpt\n",
            "INFO:tensorflow:Assets written to: zeiler_cp.ckpt/assets\n",
            "31/31 [==============================] - 246s 8s/step - loss: 0.1922\n",
            "Epoch 7/70\n",
            "31/31 [==============================] - ETA: 0s - loss: 0.1887\n",
            "Epoch 00007: saving model to zeiler_cp.ckpt\n",
            "INFO:tensorflow:Assets written to: zeiler_cp.ckpt/assets\n",
            "31/31 [==============================] - 240s 8s/step - loss: 0.1887\n",
            "Epoch 8/70\n",
            "31/31 [==============================] - ETA: 0s - loss: 0.1844\n",
            "Epoch 00008: saving model to zeiler_cp.ckpt\n",
            "INFO:tensorflow:Assets written to: zeiler_cp.ckpt/assets\n",
            "31/31 [==============================] - 243s 8s/step - loss: 0.1844\n",
            "Epoch 9/70\n",
            "31/31 [==============================] - ETA: 0s - loss: 0.1832\n",
            "Epoch 00009: saving model to zeiler_cp.ckpt\n",
            "INFO:tensorflow:Assets written to: zeiler_cp.ckpt/assets\n",
            "31/31 [==============================] - 239s 8s/step - loss: 0.1832\n",
            "Epoch 10/70\n",
            "31/31 [==============================] - ETA: 0s - loss: 0.1788\n",
            "Epoch 00010: saving model to zeiler_cp.ckpt\n",
            "INFO:tensorflow:Assets written to: zeiler_cp.ckpt/assets\n",
            "31/31 [==============================] - 241s 8s/step - loss: 0.1788\n",
            "Epoch 11/70\n",
            "31/31 [==============================] - ETA: 0s - loss: 0.1772\n",
            "Epoch 00011: saving model to zeiler_cp.ckpt\n",
            "INFO:tensorflow:Assets written to: zeiler_cp.ckpt/assets\n",
            "31/31 [==============================] - 244s 8s/step - loss: 0.1772\n",
            "Epoch 12/70\n",
            "31/31 [==============================] - ETA: 0s - loss: 0.1739\n",
            "Epoch 00012: saving model to zeiler_cp.ckpt\n",
            "INFO:tensorflow:Assets written to: zeiler_cp.ckpt/assets\n",
            "31/31 [==============================] - 240s 8s/step - loss: 0.1739\n",
            "Epoch 13/70\n",
            "31/31 [==============================] - ETA: 0s - loss: 0.1643\n",
            "Epoch 00013: saving model to zeiler_cp.ckpt\n",
            "INFO:tensorflow:Assets written to: zeiler_cp.ckpt/assets\n",
            "31/31 [==============================] - 243s 8s/step - loss: 0.1643\n",
            "Epoch 14/70\n",
            "31/31 [==============================] - ETA: 0s - loss: 0.1714\n",
            "Epoch 00014: saving model to zeiler_cp.ckpt\n",
            "INFO:tensorflow:Assets written to: zeiler_cp.ckpt/assets\n",
            "31/31 [==============================] - 240s 8s/step - loss: 0.1714\n",
            "Epoch 15/70\n",
            "31/31 [==============================] - ETA: 0s - loss: 0.1585\n",
            "Epoch 00015: saving model to zeiler_cp.ckpt\n",
            "INFO:tensorflow:Assets written to: zeiler_cp.ckpt/assets\n",
            "31/31 [==============================] - 240s 8s/step - loss: 0.1585\n",
            "Epoch 16/70\n",
            "31/31 [==============================] - ETA: 0s - loss: 0.1535\n",
            "Epoch 00016: saving model to zeiler_cp.ckpt\n",
            "INFO:tensorflow:Assets written to: zeiler_cp.ckpt/assets\n",
            "31/31 [==============================] - 247s 8s/step - loss: 0.1535\n",
            "Epoch 17/70\n",
            "31/31 [==============================] - ETA: 0s - loss: 0.1429\n",
            "Epoch 00017: saving model to zeiler_cp.ckpt\n",
            "INFO:tensorflow:Assets written to: zeiler_cp.ckpt/assets\n",
            "31/31 [==============================] - 242s 8s/step - loss: 0.1429\n",
            "Epoch 18/70\n",
            "31/31 [==============================] - ETA: 0s - loss: 0.1321\n",
            "Epoch 00018: saving model to zeiler_cp.ckpt\n",
            "INFO:tensorflow:Assets written to: zeiler_cp.ckpt/assets\n",
            "31/31 [==============================] - 243s 8s/step - loss: 0.1321\n",
            "Epoch 19/70\n",
            "31/31 [==============================] - ETA: 0s - loss: 0.1313\n",
            "Epoch 00019: saving model to zeiler_cp.ckpt\n",
            "INFO:tensorflow:Assets written to: zeiler_cp.ckpt/assets\n",
            "31/31 [==============================] - 237s 8s/step - loss: 0.1313\n",
            "Epoch 20/70\n",
            "31/31 [==============================] - ETA: 0s - loss: 0.1185\n",
            "Epoch 00020: saving model to zeiler_cp.ckpt\n",
            "INFO:tensorflow:Assets written to: zeiler_cp.ckpt/assets\n",
            "31/31 [==============================] - 237s 8s/step - loss: 0.1185\n",
            "Epoch 21/70\n",
            "31/31 [==============================] - ETA: 0s - loss: 0.1253\n",
            "Epoch 00021: saving model to zeiler_cp.ckpt\n",
            "INFO:tensorflow:Assets written to: zeiler_cp.ckpt/assets\n",
            "31/31 [==============================] - 243s 8s/step - loss: 0.1253\n",
            "Epoch 22/70\n",
            "31/31 [==============================] - ETA: 0s - loss: 0.1046\n",
            "Epoch 00022: saving model to zeiler_cp.ckpt\n",
            "INFO:tensorflow:Assets written to: zeiler_cp.ckpt/assets\n",
            "31/31 [==============================] - 240s 8s/step - loss: 0.1046\n",
            "Epoch 23/70\n",
            "31/31 [==============================] - ETA: 0s - loss: 0.1066\n",
            "Epoch 00023: saving model to zeiler_cp.ckpt\n",
            "INFO:tensorflow:Assets written to: zeiler_cp.ckpt/assets\n",
            "31/31 [==============================] - 242s 8s/step - loss: 0.1066\n",
            "Epoch 24/70\n",
            "31/31 [==============================] - ETA: 0s - loss: 0.1022\n",
            "Epoch 00024: saving model to zeiler_cp.ckpt\n",
            "INFO:tensorflow:Assets written to: zeiler_cp.ckpt/assets\n",
            "31/31 [==============================] - 240s 8s/step - loss: 0.1022\n",
            "Epoch 25/70\n",
            "31/31 [==============================] - ETA: 0s - loss: 0.0915\n",
            "Epoch 00025: saving model to zeiler_cp.ckpt\n",
            "INFO:tensorflow:Assets written to: zeiler_cp.ckpt/assets\n",
            "31/31 [==============================] - 242s 8s/step - loss: 0.0915\n",
            "Epoch 26/70\n",
            "31/31 [==============================] - ETA: 0s - loss: 0.0974\n",
            "Epoch 00026: saving model to zeiler_cp.ckpt\n",
            "INFO:tensorflow:Assets written to: zeiler_cp.ckpt/assets\n",
            "31/31 [==============================] - 238s 8s/step - loss: 0.0974\n",
            "Epoch 27/70\n",
            "31/31 [==============================] - ETA: 0s - loss: 0.0930\n",
            "Epoch 00027: saving model to zeiler_cp.ckpt\n",
            "INFO:tensorflow:Assets written to: zeiler_cp.ckpt/assets\n",
            "31/31 [==============================] - 239s 8s/step - loss: 0.0930\n",
            "Epoch 28/70\n",
            "31/31 [==============================] - ETA: 0s - loss: 0.0859\n",
            "Epoch 00028: saving model to zeiler_cp.ckpt\n",
            "INFO:tensorflow:Assets written to: zeiler_cp.ckpt/assets\n",
            "31/31 [==============================] - 244s 8s/step - loss: 0.0859\n",
            "Epoch 29/70\n",
            "31/31 [==============================] - ETA: 0s - loss: 0.0875\n",
            "Epoch 00029: saving model to zeiler_cp.ckpt\n",
            "INFO:tensorflow:Assets written to: zeiler_cp.ckpt/assets\n",
            "31/31 [==============================] - 238s 8s/step - loss: 0.0875\n",
            "Epoch 30/70\n",
            "31/31 [==============================] - ETA: 0s - loss: 0.0771\n",
            "Epoch 00030: saving model to zeiler_cp.ckpt\n",
            "INFO:tensorflow:Assets written to: zeiler_cp.ckpt/assets\n",
            "31/31 [==============================] - 242s 8s/step - loss: 0.0771\n",
            "Epoch 31/70\n",
            "31/31 [==============================] - ETA: 0s - loss: 0.0754\n",
            "Epoch 00031: saving model to zeiler_cp.ckpt\n",
            "INFO:tensorflow:Assets written to: zeiler_cp.ckpt/assets\n",
            "31/31 [==============================] - 239s 8s/step - loss: 0.0754\n",
            "Epoch 32/70\n",
            "31/31 [==============================] - ETA: 0s - loss: 0.0767\n",
            "Epoch 00032: saving model to zeiler_cp.ckpt\n",
            "INFO:tensorflow:Assets written to: zeiler_cp.ckpt/assets\n",
            "31/31 [==============================] - 239s 8s/step - loss: 0.0767\n",
            "Epoch 33/70\n",
            "31/31 [==============================] - ETA: 0s - loss: 0.0768\n",
            "Epoch 00033: saving model to zeiler_cp.ckpt\n",
            "INFO:tensorflow:Assets written to: zeiler_cp.ckpt/assets\n",
            "31/31 [==============================] - 241s 8s/step - loss: 0.0768\n",
            "Epoch 34/70\n",
            "31/31 [==============================] - ETA: 0s - loss: 0.0771\n",
            "Epoch 00034: saving model to zeiler_cp.ckpt\n",
            "INFO:tensorflow:Assets written to: zeiler_cp.ckpt/assets\n",
            "31/31 [==============================] - 240s 8s/step - loss: 0.0771\n",
            "Epoch 35/70\n",
            "31/31 [==============================] - ETA: 0s - loss: 0.1014\n",
            "Epoch 00035: saving model to zeiler_cp.ckpt\n",
            "INFO:tensorflow:Assets written to: zeiler_cp.ckpt/assets\n",
            "31/31 [==============================] - 241s 8s/step - loss: 0.1014\n",
            "Epoch 36/70\n",
            "31/31 [==============================] - ETA: 0s - loss: 0.0673\n",
            "Epoch 00036: saving model to zeiler_cp.ckpt\n",
            "INFO:tensorflow:Assets written to: zeiler_cp.ckpt/assets\n",
            "31/31 [==============================] - 238s 8s/step - loss: 0.0673\n",
            "Epoch 37/70\n",
            "31/31 [==============================] - ETA: 0s - loss: 0.0693\n",
            "Epoch 00037: saving model to zeiler_cp.ckpt\n",
            "INFO:tensorflow:Assets written to: zeiler_cp.ckpt/assets\n",
            "31/31 [==============================] - 240s 8s/step - loss: 0.0693\n",
            "Epoch 38/70\n",
            "31/31 [==============================] - ETA: 0s - loss: 0.0629\n",
            "Epoch 00038: saving model to zeiler_cp.ckpt\n",
            "INFO:tensorflow:Assets written to: zeiler_cp.ckpt/assets\n",
            "31/31 [==============================] - 244s 8s/step - loss: 0.0629\n",
            "Epoch 39/70\n",
            "31/31 [==============================] - ETA: 0s - loss: 0.0633\n",
            "Epoch 00039: saving model to zeiler_cp.ckpt\n",
            "INFO:tensorflow:Assets written to: zeiler_cp.ckpt/assets\n",
            "31/31 [==============================] - 240s 8s/step - loss: 0.0633\n",
            "Epoch 40/70\n",
            "31/31 [==============================] - ETA: 0s - loss: 0.0568\n",
            "Epoch 00040: saving model to zeiler_cp.ckpt\n",
            "INFO:tensorflow:Assets written to: zeiler_cp.ckpt/assets\n",
            "31/31 [==============================] - 243s 8s/step - loss: 0.0568\n",
            "Epoch 41/70\n",
            "31/31 [==============================] - ETA: 0s - loss: 0.0579\n",
            "Epoch 00041: saving model to zeiler_cp.ckpt\n",
            "INFO:tensorflow:Assets written to: zeiler_cp.ckpt/assets\n",
            "31/31 [==============================] - 239s 8s/step - loss: 0.0579\n",
            "Epoch 42/70\n",
            "31/31 [==============================] - ETA: 0s - loss: 0.0592\n",
            "Epoch 00042: saving model to zeiler_cp.ckpt\n",
            "INFO:tensorflow:Assets written to: zeiler_cp.ckpt/assets\n",
            "31/31 [==============================] - 240s 8s/step - loss: 0.0592\n",
            "Epoch 43/70\n",
            "31/31 [==============================] - ETA: 0s - loss: 0.0614\n",
            "Epoch 00043: saving model to zeiler_cp.ckpt\n",
            "INFO:tensorflow:Assets written to: zeiler_cp.ckpt/assets\n",
            "31/31 [==============================] - 244s 8s/step - loss: 0.0614\n",
            "Epoch 44/70\n",
            "31/31 [==============================] - ETA: 0s - loss: 0.0617\n",
            "Epoch 00044: saving model to zeiler_cp.ckpt\n",
            "INFO:tensorflow:Assets written to: zeiler_cp.ckpt/assets\n",
            "31/31 [==============================] - 241s 8s/step - loss: 0.0617\n",
            "Epoch 45/70\n",
            "31/31 [==============================] - ETA: 0s - loss: 0.0637\n",
            "Epoch 00045: saving model to zeiler_cp.ckpt\n",
            "INFO:tensorflow:Assets written to: zeiler_cp.ckpt/assets\n",
            "31/31 [==============================] - 245s 8s/step - loss: 0.0637\n",
            "Epoch 46/70\n",
            "31/31 [==============================] - ETA: 0s - loss: 0.0610\n",
            "Epoch 00046: saving model to zeiler_cp.ckpt\n",
            "INFO:tensorflow:Assets written to: zeiler_cp.ckpt/assets\n",
            "31/31 [==============================] - 241s 8s/step - loss: 0.0610\n",
            "Epoch 47/70\n",
            "31/31 [==============================] - ETA: 0s - loss: 0.0567\n",
            "Epoch 00047: saving model to zeiler_cp.ckpt\n",
            "INFO:tensorflow:Assets written to: zeiler_cp.ckpt/assets\n",
            "31/31 [==============================] - 245s 8s/step - loss: 0.0567\n",
            "Epoch 48/70\n",
            "31/31 [==============================] - ETA: 0s - loss: 0.0545\n",
            "Epoch 00048: saving model to zeiler_cp.ckpt\n",
            "INFO:tensorflow:Assets written to: zeiler_cp.ckpt/assets\n",
            "31/31 [==============================] - 238s 8s/step - loss: 0.0545\n",
            "Epoch 49/70\n",
            "31/31 [==============================] - ETA: 0s - loss: 0.0542\n",
            "Epoch 00049: saving model to zeiler_cp.ckpt\n",
            "INFO:tensorflow:Assets written to: zeiler_cp.ckpt/assets\n",
            "31/31 [==============================] - 240s 8s/step - loss: 0.0542\n",
            "Epoch 50/70\n",
            "31/31 [==============================] - ETA: 0s - loss: 0.0613\n",
            "Epoch 00050: saving model to zeiler_cp.ckpt\n",
            "INFO:tensorflow:Assets written to: zeiler_cp.ckpt/assets\n",
            "31/31 [==============================] - 248s 8s/step - loss: 0.0613\n",
            "Epoch 51/70\n",
            "31/31 [==============================] - ETA: 0s - loss: 0.0570\n",
            "Epoch 00051: saving model to zeiler_cp.ckpt\n",
            "INFO:tensorflow:Assets written to: zeiler_cp.ckpt/assets\n",
            "31/31 [==============================] - 244s 8s/step - loss: 0.0570\n",
            "Epoch 52/70\n",
            "31/31 [==============================] - ETA: 0s - loss: 0.0596\n",
            "Epoch 00052: saving model to zeiler_cp.ckpt\n",
            "INFO:tensorflow:Assets written to: zeiler_cp.ckpt/assets\n",
            "31/31 [==============================] - 246s 8s/step - loss: 0.0596\n",
            "Epoch 53/70\n",
            "31/31 [==============================] - ETA: 0s - loss: 0.0631\n",
            "Epoch 00053: saving model to zeiler_cp.ckpt\n",
            "INFO:tensorflow:Assets written to: zeiler_cp.ckpt/assets\n",
            "31/31 [==============================] - 244s 8s/step - loss: 0.0631\n",
            "Epoch 54/70\n",
            "31/31 [==============================] - ETA: 0s - loss: 0.0531\n",
            "Epoch 00054: saving model to zeiler_cp.ckpt\n",
            "INFO:tensorflow:Assets written to: zeiler_cp.ckpt/assets\n",
            "31/31 [==============================] - 243s 8s/step - loss: 0.0531\n",
            "Epoch 55/70\n",
            "31/31 [==============================] - ETA: 0s - loss: 0.0505\n",
            "Epoch 00055: saving model to zeiler_cp.ckpt\n",
            "INFO:tensorflow:Assets written to: zeiler_cp.ckpt/assets\n",
            "31/31 [==============================] - 247s 8s/step - loss: 0.0505\n",
            "Epoch 56/70\n",
            "31/31 [==============================] - ETA: 0s - loss: 0.0530\n",
            "Epoch 00056: saving model to zeiler_cp.ckpt\n",
            "INFO:tensorflow:Assets written to: zeiler_cp.ckpt/assets\n",
            "31/31 [==============================] - 242s 8s/step - loss: 0.0530\n",
            "Epoch 57/70\n",
            "31/31 [==============================] - ETA: 0s - loss: 0.0524\n",
            "Epoch 00057: saving model to zeiler_cp.ckpt\n",
            "INFO:tensorflow:Assets written to: zeiler_cp.ckpt/assets\n",
            "31/31 [==============================] - 244s 8s/step - loss: 0.0524\n",
            "Epoch 58/70\n",
            "31/31 [==============================] - ETA: 0s - loss: 0.0470\n",
            "Epoch 00058: saving model to zeiler_cp.ckpt\n",
            "INFO:tensorflow:Assets written to: zeiler_cp.ckpt/assets\n",
            "31/31 [==============================] - 240s 8s/step - loss: 0.0470\n",
            "Epoch 59/70\n",
            "31/31 [==============================] - ETA: 0s - loss: 0.0455\n",
            "Epoch 00059: saving model to zeiler_cp.ckpt\n",
            "INFO:tensorflow:Assets written to: zeiler_cp.ckpt/assets\n",
            "31/31 [==============================] - 241s 8s/step - loss: 0.0455\n",
            "Epoch 60/70\n",
            "31/31 [==============================] - ETA: 0s - loss: 0.0489\n",
            "Epoch 00060: saving model to zeiler_cp.ckpt\n",
            "INFO:tensorflow:Assets written to: zeiler_cp.ckpt/assets\n",
            "31/31 [==============================] - 244s 8s/step - loss: 0.0489\n",
            "Epoch 61/70\n",
            "31/31 [==============================] - ETA: 0s - loss: 0.0474\n",
            "Epoch 00061: saving model to zeiler_cp.ckpt\n",
            "INFO:tensorflow:Assets written to: zeiler_cp.ckpt/assets\n",
            "31/31 [==============================] - 239s 8s/step - loss: 0.0474\n",
            "Epoch 62/70\n",
            "31/31 [==============================] - ETA: 0s - loss: 0.0541\n",
            "Epoch 00062: saving model to zeiler_cp.ckpt\n",
            "INFO:tensorflow:Assets written to: zeiler_cp.ckpt/assets\n",
            "31/31 [==============================] - 242s 8s/step - loss: 0.0541\n",
            "Epoch 63/70\n",
            "31/31 [==============================] - ETA: 0s - loss: 0.0469\n",
            "Epoch 00063: saving model to zeiler_cp.ckpt\n",
            "INFO:tensorflow:Assets written to: zeiler_cp.ckpt/assets\n",
            "31/31 [==============================] - 239s 8s/step - loss: 0.0469\n",
            "Epoch 64/70\n",
            "31/31 [==============================] - ETA: 0s - loss: 0.0446\n",
            "Epoch 00064: saving model to zeiler_cp.ckpt\n",
            "INFO:tensorflow:Assets written to: zeiler_cp.ckpt/assets\n",
            "31/31 [==============================] - 243s 8s/step - loss: 0.0446\n",
            "Epoch 65/70\n",
            "31/31 [==============================] - ETA: 0s - loss: 0.0427\n",
            "Epoch 00065: saving model to zeiler_cp.ckpt\n",
            "INFO:tensorflow:Assets written to: zeiler_cp.ckpt/assets\n",
            "31/31 [==============================] - 238s 8s/step - loss: 0.0427\n",
            "Epoch 66/70\n",
            "31/31 [==============================] - ETA: 0s - loss: 0.0456\n",
            "Epoch 00066: saving model to zeiler_cp.ckpt\n",
            "INFO:tensorflow:Assets written to: zeiler_cp.ckpt/assets\n",
            "31/31 [==============================] - 241s 8s/step - loss: 0.0456\n",
            "Epoch 67/70\n",
            "31/31 [==============================] - ETA: 0s - loss: 0.0383\n",
            "Epoch 00067: saving model to zeiler_cp.ckpt\n",
            "INFO:tensorflow:Assets written to: zeiler_cp.ckpt/assets\n",
            "31/31 [==============================] - 242s 8s/step - loss: 0.0383\n",
            "Epoch 68/70\n",
            "31/31 [==============================] - ETA: 0s - loss: 0.0535\n",
            "Epoch 00068: saving model to zeiler_cp.ckpt\n",
            "INFO:tensorflow:Assets written to: zeiler_cp.ckpt/assets\n",
            "31/31 [==============================] - 240s 8s/step - loss: 0.0535\n",
            "Epoch 69/70\n",
            "31/31 [==============================] - ETA: 0s - loss: 0.0435\n",
            "Epoch 00069: saving model to zeiler_cp.ckpt\n",
            "INFO:tensorflow:Assets written to: zeiler_cp.ckpt/assets\n",
            "31/31 [==============================] - 244s 8s/step - loss: 0.0435\n",
            "Epoch 70/70\n",
            "31/31 [==============================] - ETA: 0s - loss: 0.0430\n",
            "Epoch 00070: saving model to zeiler_cp.ckpt\n",
            "INFO:tensorflow:Assets written to: zeiler_cp.ckpt/assets\n",
            "31/31 [==============================] - 240s 8s/step - loss: 0.0430\n"
          ],
          "name": "stdout"
        }
      ]
    },
    {
      "cell_type": "code",
      "metadata": {
        "id": "4vrVLYrF_DXD"
      },
      "source": [
        "#get the latest checkpoint file\n",
        "checkpoint_dir = os.path.dirname(checkpoint_path)\n",
        "latest = tf.train.latest_checkpoint(checkpoint_dir)\n",
        "\n",
        "#Create a new model instance\n",
        "model_latest_checkpoint = create_model()\n",
        "# Load the previously saved weights\n",
        "model_latest_checkpoint.load_weights(latest)"
      ],
      "execution_count": null,
      "outputs": []
    },
    {
      "cell_type": "code",
      "metadata": {
        "id": "pFaVqWmr7S-6",
        "colab": {
          "base_uri": "https://localhost:8080/"
        },
        "outputId": "633958b8-ad08-4bae-a69f-7bb441d1fcdc"
      },
      "source": [
        "test_path = 'test'\n",
        "\n",
        "test_batches = keras.preprocessing.image.ImageDataGenerator(\n",
        "    rescale=1/255\n",
        ").flow_from_directory(\n",
        "    test_path,\n",
        "    target_size=(input_shape[0], input_shape[1]),\n",
        "    batch_size=batch_size,\n",
        "    class_mode='sparse',\n",
        "    color_mode='grayscale'\n",
        ")"
      ],
      "execution_count": 49,
      "outputs": [
        {
          "output_type": "stream",
          "text": [
            "Found 1254 images belonging to 901 classes.\n"
          ],
          "name": "stdout"
        }
      ]
    },
    {
      "cell_type": "code",
      "metadata": {
        "id": "JBYPi_2c7Ngr"
      },
      "source": [
        "# Evaluate the network\n",
        "results = model.predict(test_batches)"
      ],
      "execution_count": 50,
      "outputs": []
    },
    {
      "cell_type": "code",
      "metadata": {
        "id": "S_TORYUP7O8C",
        "colab": {
          "base_uri": "https://localhost:8080/",
          "height": 17
        },
        "outputId": "2326a3ad-8ad1-41fd-ef81-96cada960178"
      },
      "source": [
        "# Save test embeddings for visualization in projector\n",
        "np.savetxt(\"vecs.tsv\", results, delimiter='\\t')\n",
        "\n",
        "\"\"\"\n",
        "x=np.concatenate([train_generator.next()[0] for i in range(train_generator.__len__())])\n",
        "y=np.concatenate([train_generator.next()[1] for i in range(train_generator.__len__())])\n",
        "print(x.shape)\n",
        "print(y.shape)\n",
        "y = y.astype(int)\n",
        "\n",
        "import io\n",
        "import tensorflow_datasets as tfds\n",
        "\n",
        "out_m = io.open('meta.tsv', 'w', encoding='utf-8')\n",
        "for img, label in tfds.as_numpy(test_batches):\n",
        "    [out_m.write(str(label) + \"\\n\")]\n",
        "out_m.close()\n",
        "\"\"\"\n",
        "\n",
        "\n",
        "try:\n",
        "  from google.colab import files\n",
        "  files.download('vecs.tsv')\n",
        "  # files.download('meta.tsv')\n",
        "except:\n",
        "  pass\n"
      ],
      "execution_count": 56,
      "outputs": [
        {
          "output_type": "display_data",
          "data": {
            "application/javascript": [
              "\n",
              "    async function download(id, filename, size) {\n",
              "      if (!google.colab.kernel.accessAllowed) {\n",
              "        return;\n",
              "      }\n",
              "      const div = document.createElement('div');\n",
              "      const label = document.createElement('label');\n",
              "      label.textContent = `Downloading \"${filename}\": `;\n",
              "      div.appendChild(label);\n",
              "      const progress = document.createElement('progress');\n",
              "      progress.max = size;\n",
              "      div.appendChild(progress);\n",
              "      document.body.appendChild(div);\n",
              "\n",
              "      const buffers = [];\n",
              "      let downloaded = 0;\n",
              "\n",
              "      const channel = await google.colab.kernel.comms.open(id);\n",
              "      // Send a message to notify the kernel that we're ready.\n",
              "      channel.send({})\n",
              "\n",
              "      for await (const message of channel.messages) {\n",
              "        // Send a message to notify the kernel that we're ready.\n",
              "        channel.send({})\n",
              "        if (message.buffers) {\n",
              "          for (const buffer of message.buffers) {\n",
              "            buffers.push(buffer);\n",
              "            downloaded += buffer.byteLength;\n",
              "            progress.value = downloaded;\n",
              "          }\n",
              "        }\n",
              "      }\n",
              "      const blob = new Blob(buffers, {type: 'application/binary'});\n",
              "      const a = document.createElement('a');\n",
              "      a.href = window.URL.createObjectURL(blob);\n",
              "      a.download = filename;\n",
              "      div.appendChild(a);\n",
              "      a.click();\n",
              "      div.remove();\n",
              "    }\n",
              "  "
            ],
            "text/plain": [
              "<IPython.core.display.Javascript object>"
            ]
          },
          "metadata": {
            "tags": []
          }
        },
        {
          "output_type": "display_data",
          "data": {
            "application/javascript": [
              "download(\"download_84c800a7-7b31-4fe4-9eec-bf12a338fb1a\", \"vecs.tsv\", 4095664)"
            ],
            "text/plain": [
              "<IPython.core.display.Javascript object>"
            ]
          },
          "metadata": {
            "tags": []
          }
        }
      ]
    },
    {
      "cell_type": "code",
      "metadata": {
        "id": "XyhCxbsl4nlS"
      },
      "source": [
        "# %%script echo \"Comment line with %%script echo to run this cell.\"\n",
        "\n",
        "model.save('model.h5')"
      ],
      "execution_count": 58,
      "outputs": []
    },
    {
      "cell_type": "code",
      "metadata": {
        "id": "LE5_80xE4nlS"
      },
      "source": [
        "# %%script echo \"Comment line with %%script echo to run this cell.\"\n",
        "\n",
        "with open('history.pickle', 'wb') as f:\n",
        "    pickle.dump(history.history, f)"
      ],
      "execution_count": 59,
      "outputs": []
    },
    {
      "cell_type": "code",
      "metadata": {
        "id": "cK2DjeD24nlS"
      },
      "source": [
        "model = keras.models.load_model('model.h5')"
      ],
      "execution_count": 60,
      "outputs": []
    },
    {
      "cell_type": "code",
      "metadata": {
        "id": "u26835cq4nlS"
      },
      "source": [
        "with open('history.pickle', 'rb') as f:\n",
        "    history = pickle.load(f)"
      ],
      "execution_count": 61,
      "outputs": []
    },
    {
      "cell_type": "code",
      "metadata": {
        "colab": {
          "base_uri": "https://localhost:8080/",
          "height": 279
        },
        "id": "s8H372VNfUQR",
        "outputId": "c1209315-a815-4331-93fc-8aba6c383587"
      },
      "source": [
        "import matplotlib.pyplot as plt\n",
        "\n",
        "plt.xlabel('Epochs')\n",
        "plt.ylabel(r'Triplet Loss $(\\alpha=0.2)$')\n",
        "plt.plot(np.arange(1, len(history['loss']) + 1), history['loss'], color='b');"
      ],
      "execution_count": 66,
      "outputs": [
        {
          "output_type": "display_data",
          "data": {
            "image/png": "[encoded data removed]",
            "text/plain": [
              "<Figure size 432x288 with 1 Axes>"
            ]
          },
          "metadata": {
            "tags": [],
            "needs_background": "light"
          }
        }
      ]
    }
  ]
}