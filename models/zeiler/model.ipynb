{
 "cells": [
  {
   "cell_type": "markdown",
   "metadata": {},
   "source": [
    "# Zeiler & Fergus Architecture"
   ]
  },
  {
   "cell_type": "code",
   "execution_count": 1,
   "metadata": {},
   "outputs": [],
   "source": [
    "import numpy as np\n",
    "import tensorflow as tf\n",
    "import tensorflow.keras as keras\n",
    "import matplotlib.pyplot as plt\n",
    "import os"
   ]
  },
  {
   "cell_type": "code",
   "execution_count": null,
   "metadata": {},
   "outputs": [],
   "source": [
    "np.random.seed(1)\n",
    "tf.random.set_seed(1)"
   ]
  },
  {
   "cell_type": "code",
   "execution_count": null,
   "metadata": {},
   "outputs": [],
   "source": [
    "train_path = os.path.join('..', '..', 'data', 'data_subset', 'data_train')\n",
    "test_path = os.path.join('..', '..', 'data', 'data_subset', 'data_test')"
   ]
  },
  {
   "cell_type": "code",
   "execution_count": null,
   "metadata": {},
   "outputs": [],
   "source": [
    "# Hyperparameters\n",
    "train_batch_size = 32\n",
    "test_batch_size = 32"
   ]
  },
  {
   "cell_type": "code",
   "execution_count": null,
   "metadata": {},
   "outputs": [],
   "source": [
    "# QUESTION: Do we need to augment? Not augmenting for now. Loading in batches to fit in memory.\n",
    "train_datagen = keras.preprocessing.image.ImageDataGenerator(\n",
    "    rescale=1/255\n",
    ").flow_from_directory(\n",
    "    train_path,\n",
    "    target_size=(220, 220),\n",
    "    batch_size=train_batch_size,\n",
    "    # class_mode= # What to include here?\n",
    ")"
   ]
  },
  {
   "cell_type": "code",
   "execution_count": null,
   "metadata": {},
   "outputs": [],
   "source": [
    "test_datagen = keras.preprocessing.image.ImageDataGenerator(\n",
    "    rescale=1/255\n",
    ").flow_from_directory(\n",
    "    test_path,\n",
    "    target_size=(220, 220),\n",
    "    batch_size=train_batch_size,\n",
    "    # class_mode= # What to include here?\n",
    ")"
   ]
  },
  {
   "cell_type": "code",
   "execution_count": null,
   "metadata": {},
   "outputs": [],
   "source": [
    "# More hyperparameters\n",
    "learning_rate = 1e-5\n",
    "epochs = 100\n",
    "\n",
    "# Math works out so that one epoch equals one pass through the dataset.\n",
    "train_steps_per_epoch = train_datagen.n // train_batch_size\n",
    "test_steps_per_epoch = test_datagen.n // test_batch_size"
   ]
  },
  {
   "cell_type": "code",
   "execution_count": null,
   "metadata": {},
   "outputs": [],
   "source": [
    "# Callback for early stopping\n",
    "es_callback = keras.callbacks.EarlyStopping(\n",
    "    monitor='val_loss',\n",
    "    min_delta=0.0001,\n",
    "    patience=5,\n",
    "    restore_best_weights=True\n",
    ")"
   ]
  },
  {
   "cell_type": "code",
   "execution_count": 2,
   "metadata": {},
   "outputs": [],
   "source": [
    "model = keras.Sequential([\n",
    "    keras.layers.Conv2D(64, (7, 7), strides=(2, 2), padding='same', input_shape=(220, 220, 3), name='conv1'),\n",
    "    keras.layers.MaxPooling2D(pool_size=(3, 3), strides=(2, 2), padding='same', name='pool1'),\n",
    "    # Assuming rnorm means batch normalization.\n",
    "    keras.layers.BatchNormalization(name='rnorm1'),\n",
    "    \n",
    "    keras.layers.Conv2D(64, (1, 1), strides=(1, 1), padding='same', name='conv2a'),\n",
    "    keras.layers.Conv2D(192, (3, 3), strides=(1, 1), padding='same', name='conv2'),\n",
    "    keras.layers.BatchNormalization(name='rnorm2'),\n",
    "    keras.layers.MaxPooling2D(pool_size=(3, 3), strides=(2, 2), padding='same', name='pool2'),\n",
    "    \n",
    "    keras.layers.Conv2D(192, (1, 1), strides=(1, 1), padding='same', name='conv3a'),\n",
    "    keras.layers.Conv2D(384, (3, 3), strides=(1, 1), padding='same', name='conv3'),\n",
    "    keras.layers.MaxPooling2D(pool_size=(3, 3), strides=(2, 2), padding='same', name='pool3'),\n",
    "    \n",
    "    keras.layers.Conv2D(384, (1, 1), strides=(1, 1), padding='same', name='conv4a'),\n",
    "    keras.layers.Conv2D(256, (3, 3), strides=(1, 1), padding='same', name='conv4'),\n",
    "    \n",
    "    keras.layers.Conv2D(256, (1, 1), strides=(1, 1), padding='same', name='conv5a'),\n",
    "    keras.layers.Conv2D(256, (3, 3), strides=(1, 1), padding='same', name='conv5'),\n",
    "    \n",
    "    keras.layers.Conv2D(256, (1, 1), strides=(1, 1), padding='same', name='conv6a'),\n",
    "    keras.layers.Conv2D(256, (3, 3), strides=(1, 1), padding='same', name='conv6'),\n",
    "    keras.layers.MaxPooling2D(pool_size=(3, 3), strides=2, padding='same', name='pool4'),\n",
    "    \n",
    "    # ---------- Questions about this section. Discuss next meet. ----------\n",
    "    keras.layers.Flatten(),\n",
    "], name='zeiler_fergus')"
   ]
  },
  {
   "cell_type": "code",
   "execution_count": 3,
   "metadata": {},
   "outputs": [
    {
     "name": "stdout",
     "output_type": "stream",
     "text": [
      "Model: \"zeiler_fergus\"\n",
      "_________________________________________________________________\n",
      "Layer (type)                 Output Shape              Param #   \n",
      "=================================================================\n",
      "conv1 (Conv2D)               (None, 110, 110, 64)      9472      \n",
      "_________________________________________________________________\n",
      "pool1 (MaxPooling2D)         (None, 55, 55, 64)        0         \n",
      "_________________________________________________________________\n",
      "rnorm1 (BatchNormalization)  (None, 55, 55, 64)        256       \n",
      "_________________________________________________________________\n",
      "conv2a (Conv2D)              (None, 55, 55, 64)        4160      \n",
      "_________________________________________________________________\n",
      "conv2 (Conv2D)               (None, 55, 55, 192)       110784    \n",
      "_________________________________________________________________\n",
      "rnorm2 (BatchNormalization)  (None, 55, 55, 192)       768       \n",
      "_________________________________________________________________\n",
      "pool2 (MaxPooling2D)         (None, 28, 28, 192)       0         \n",
      "_________________________________________________________________\n",
      "conv3a (Conv2D)              (None, 28, 28, 192)       37056     \n",
      "_________________________________________________________________\n",
      "conv3 (Conv2D)               (None, 28, 28, 384)       663936    \n",
      "_________________________________________________________________\n",
      "pool3 (MaxPooling2D)         (None, 14, 14, 384)       0         \n",
      "_________________________________________________________________\n",
      "conv4a (Conv2D)              (None, 14, 14, 384)       147840    \n",
      "_________________________________________________________________\n",
      "conv4 (Conv2D)               (None, 14, 14, 256)       884992    \n",
      "_________________________________________________________________\n",
      "conv5a (Conv2D)              (None, 14, 14, 256)       65792     \n",
      "_________________________________________________________________\n",
      "conv5 (Conv2D)               (None, 14, 14, 256)       590080    \n",
      "_________________________________________________________________\n",
      "conv6a (Conv2D)              (None, 14, 14, 256)       65792     \n",
      "_________________________________________________________________\n",
      "conv6 (Conv2D)               (None, 14, 14, 256)       590080    \n",
      "_________________________________________________________________\n",
      "pool4 (MaxPooling2D)         (None, 7, 7, 256)         0         \n",
      "_________________________________________________________________\n",
      "flatten (Flatten)            (None, 12544)             0         \n",
      "=================================================================\n",
      "Total params: 3,171,008\n",
      "Trainable params: 3,170,496\n",
      "Non-trainable params: 512\n",
      "_________________________________________________________________\n"
     ]
    }
   ],
   "source": [
    "model.summary()"
   ]
  }
 ],
 "metadata": {
  "kernelspec": {
   "display_name": "Python 3",
   "language": "python",
   "name": "python3"
  },
  "language_info": {
   "codemirror_mode": {
    "name": "ipython",
    "version": 3
   },
   "file_extension": ".py",
   "mimetype": "text/x-python",
   "name": "python",
   "nbconvert_exporter": "python",
   "pygments_lexer": "ipython3",
   "version": "3.8.6"
  }
 },
 "nbformat": 4,
 "nbformat_minor": 4
}
